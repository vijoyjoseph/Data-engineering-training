{
 "cells": [
  {
   "cell_type": "code",
   "execution_count": 0,
   "metadata": {
    "application/vnd.databricks.v1+cell": {
     "cellMetadata": {
      "byteLimit": 2048000,
      "rowLimit": 10000
     },
     "inputWidgets": {},
     "nuid": "0b2d2fde-8a7f-4908-8574-8340c2188c2e",
     "showTitle": false,
     "title": ""
    }
   },
   "outputs": [
    {
     "output_type": "stream",
     "name": "stdout",
     "output_type": "stream",
     "text": [
      "+--------------+----------+----------------+-------------------+-------------+-------------+-------------------+-----------+-----------------+--------------+\n|Transaction ID|Product ID|Product Category|Product Subcategory|Product Price|Quantity Sold|   Transaction Date|Customer ID|Customer Location|Payment Method|\n+--------------+----------+----------------+-------------------+-------------+-------------+-------------------+-----------+-----------------+--------------+\n|             1|       151|        Clothing|             Mobile|        11.14|           11|2023-02-12 00:00:00|       1017|          Florida|        PayPal|\n|             2|       192|     Electronics|            Fiction|       237.04|           10|2023-01-21 00:00:00|       1016|         New York|    Debit Card|\n|             3|       114|           Books|            Fiction|       154.13|           19|2023-11-02 00:00:00|       1037|         New York|    Debit Card|\n|             4|       171|       Groceries|         Board Game|       301.19|           14|2023-07-23 00:00:00|       1013|         New York|   Credit Card|\n|             5|       160|        Clothing|         Board Game|       152.13|           10|2022-03-19 00:00:00|       1086|          Florida|          Cash|\n|             6|       120|     Electronics|             Laptop|       153.46|           15|2022-07-13 00:00:00|       1088|       California|    Debit Card|\n|             7|       182|            Toys|             Laptop|       372.88|           19|2022-10-12 00:00:00|       1078|         Illinois|    Debit Card|\n|             8|       186|           Books|             Mobile|        28.83|            4|2023-06-11 00:00:00|       1055|          Florida|    Debit Card|\n|             9|       174|        Clothing|         Board Game|       451.93|            2|2023-06-08 00:00:00|       1021|       California|          Cash|\n|            10|       174|        Clothing|        Non-fiction|       426.87|            9|2023-09-05 00:00:00|       1066|       California|          Cash|\n|            11|       187|       Groceries|        Non-fiction|       335.56|           10|2022-06-05 00:00:00|       1055|          Florida|   Credit Card|\n|            12|       199|       Groceries|             Mobile|       298.64|           11|2022-12-06 00:00:00|       1018|          Florida|        PayPal|\n|            13|       123|            Toys|        Non-fiction|       446.69|           14|2022-05-05 00:00:00|       1056|       California|          Cash|\n|            14|       102|            Toys|      Action Figure|        96.74|            7|2022-10-07 00:00:00|       1043|       California|        PayPal|\n|            15|       121|     Electronics|              Pants|        44.09|           15|2023-09-14 00:00:00|       1097|       California|        PayPal|\n|            16|       152|     Electronics|             Mobile|       123.56|           19|2023-10-20 00:00:00|       1034|          Florida|          Cash|\n|            17|       101|            Toys|             Mobile|       398.32|           15|2023-12-29 00:00:00|       1000|       California|    Debit Card|\n|            18|       187|            Toys|              Shirt|        22.16|            8|2023-11-05 00:00:00|       1051|         New York|   Credit Card|\n|            19|       129|           Books|              Fruit|       293.49|           11|2022-05-08 00:00:00|       1084|          Florida|        PayPal|\n|            20|       137|       Groceries|              Fruit|       497.74|            9|2022-11-10 00:00:00|       1092|         New York|    Debit Card|\n+--------------+----------+----------------+-------------------+-------------+-------------+-------------------+-----------+-----------------+--------------+\nonly showing top 20 rows\n\n"
     ]
    }
   ],
   "source": [
    "from pyspark.sql import SparkSession\n",
    "spark = SparkSession.builder.appName('ECommerceAnalysis').getOrCreate()\n",
    "df = spark.read.csv(\"/FileStore/sample_ecommerce_data1.csv\", header=True, inferSchema=True)\n",
    "df.show()"
   ]
  },
  {
   "cell_type": "code",
   "execution_count": 0,
   "metadata": {
    "application/vnd.databricks.v1+cell": {
     "cellMetadata": {
      "byteLimit": 2048000,
      "rowLimit": 10000
     },
     "inputWidgets": {},
     "nuid": "61b72cee-3be6-419c-8538-a1e4397839af",
     "showTitle": false,
     "title": ""
    }
   },
   "outputs": [
    {
     "output_type": "stream",
     "name": "stdout",
     "output_type": "stream",
     "text": [
      "+--------------+----------+----------------+-------------------+-------------+-------------+-------------------+-----------+-----------------+--------------+\n|Transaction ID|Product ID|Product Category|Product Subcategory|Product Price|Quantity Sold|   Transaction Date|Customer ID|Customer Location|Payment Method|\n+--------------+----------+----------------+-------------------+-------------+-------------+-------------------+-----------+-----------------+--------------+\n|             1|       151|        Clothing|             Mobile|        11.14|           11|2023-02-12 00:00:00|       1017|          Florida|        PayPal|\n|             2|       192|     Electronics|            Fiction|       237.04|           10|2023-01-21 00:00:00|       1016|         New York|    Debit Card|\n|             3|       114|           Books|            Fiction|       154.13|           19|2023-11-02 00:00:00|       1037|         New York|    Debit Card|\n|             4|       171|       Groceries|         Board Game|       301.19|           14|2023-07-23 00:00:00|       1013|         New York|   Credit Card|\n|             5|       160|        Clothing|         Board Game|       152.13|           10|2022-03-19 00:00:00|       1086|          Florida|          Cash|\n|             6|       120|     Electronics|             Laptop|       153.46|           15|2022-07-13 00:00:00|       1088|       California|    Debit Card|\n|             7|       182|            Toys|             Laptop|       372.88|           19|2022-10-12 00:00:00|       1078|         Illinois|    Debit Card|\n|             8|       186|           Books|             Mobile|        28.83|            4|2023-06-11 00:00:00|       1055|          Florida|    Debit Card|\n|             9|       174|        Clothing|         Board Game|       451.93|            2|2023-06-08 00:00:00|       1021|       California|          Cash|\n|            10|       174|        Clothing|        Non-fiction|       426.87|            9|2023-09-05 00:00:00|       1066|       California|          Cash|\n|            11|       187|       Groceries|        Non-fiction|       335.56|           10|2022-06-05 00:00:00|       1055|          Florida|   Credit Card|\n|            12|       199|       Groceries|             Mobile|       298.64|           11|2022-12-06 00:00:00|       1018|          Florida|        PayPal|\n|            13|       123|            Toys|        Non-fiction|       446.69|           14|2022-05-05 00:00:00|       1056|       California|          Cash|\n|            14|       102|            Toys|      Action Figure|        96.74|            7|2022-10-07 00:00:00|       1043|       California|        PayPal|\n|            15|       121|     Electronics|              Pants|        44.09|           15|2023-09-14 00:00:00|       1097|       California|        PayPal|\n|            16|       152|     Electronics|             Mobile|       123.56|           19|2023-10-20 00:00:00|       1034|          Florida|          Cash|\n|            17|       101|            Toys|             Mobile|       398.32|           15|2023-12-29 00:00:00|       1000|       California|    Debit Card|\n|            18|       187|            Toys|              Shirt|        22.16|            8|2023-11-05 00:00:00|       1051|         New York|   Credit Card|\n|            19|       129|           Books|              Fruit|       293.49|           11|2022-05-08 00:00:00|       1084|          Florida|        PayPal|\n|            20|       137|       Groceries|              Fruit|       497.74|            9|2022-11-10 00:00:00|       1092|         New York|    Debit Card|\n+--------------+----------+----------------+-------------------+-------------+-------------+-------------------+-----------+-----------------+--------------+\nonly showing top 20 rows\n\n+--------------+----------+---------------------+-------------------+-------------+-------------+-------------------+-----------+-----------------+--------------+\n|Transaction ID|Product ID|Product Category name|Product Subcategory|Product Price|Quantity Sold|   Transaction Date|Customer ID|Customer Location|Payment Method|\n+--------------+----------+---------------------+-------------------+-------------+-------------+-------------------+-----------+-----------------+--------------+\n|             1|       151|             Clothing|             Mobile|        11.14|           11|2023-02-12 00:00:00|       1017|          Florida|        PayPal|\n|             2|       192|          Electronics|            Fiction|       237.04|           10|2023-01-21 00:00:00|       1016|         New York|    Debit Card|\n|             3|       114|                Books|            Fiction|       154.13|           19|2023-11-02 00:00:00|       1037|         New York|    Debit Card|\n|             4|       171|            Groceries|         Board Game|       301.19|           14|2023-07-23 00:00:00|       1013|         New York|   Credit Card|\n|             5|       160|             Clothing|         Board Game|       152.13|           10|2022-03-19 00:00:00|       1086|          Florida|          Cash|\n|             6|       120|          Electronics|             Laptop|       153.46|           15|2022-07-13 00:00:00|       1088|       California|    Debit Card|\n|             7|       182|                 Toys|             Laptop|       372.88|           19|2022-10-12 00:00:00|       1078|         Illinois|    Debit Card|\n|             8|       186|                Books|             Mobile|        28.83|            4|2023-06-11 00:00:00|       1055|          Florida|    Debit Card|\n|             9|       174|             Clothing|         Board Game|       451.93|            2|2023-06-08 00:00:00|       1021|       California|          Cash|\n|            10|       174|             Clothing|        Non-fiction|       426.87|            9|2023-09-05 00:00:00|       1066|       California|          Cash|\n|            11|       187|            Groceries|        Non-fiction|       335.56|           10|2022-06-05 00:00:00|       1055|          Florida|   Credit Card|\n|            12|       199|            Groceries|             Mobile|       298.64|           11|2022-12-06 00:00:00|       1018|          Florida|        PayPal|\n|            13|       123|                 Toys|        Non-fiction|       446.69|           14|2022-05-05 00:00:00|       1056|       California|          Cash|\n|            14|       102|                 Toys|      Action Figure|        96.74|            7|2022-10-07 00:00:00|       1043|       California|        PayPal|\n|            15|       121|          Electronics|              Pants|        44.09|           15|2023-09-14 00:00:00|       1097|       California|        PayPal|\n|            16|       152|          Electronics|             Mobile|       123.56|           19|2023-10-20 00:00:00|       1034|          Florida|          Cash|\n|            17|       101|                 Toys|             Mobile|       398.32|           15|2023-12-29 00:00:00|       1000|       California|    Debit Card|\n|            18|       187|                 Toys|              Shirt|        22.16|            8|2023-11-05 00:00:00|       1051|         New York|   Credit Card|\n|            19|       129|                Books|              Fruit|       293.49|           11|2022-05-08 00:00:00|       1084|          Florida|        PayPal|\n|            20|       137|            Groceries|              Fruit|       497.74|            9|2022-11-10 00:00:00|       1092|         New York|    Debit Card|\n+--------------+----------+---------------------+-------------------+-------------+-------------+-------------------+-----------+-----------------+--------------+\nonly showing top 20 rows\n\n+--------------+----------+---------------------+-------------------+-------------+-------------+-------------------+-----------+-----------------+--------------+----------+\n|Transaction ID|Product ID|Product Category name|Product Subcategory|Product Price|Quantity Sold|   Transaction Date|Customer ID|Customer Location|Payment Method|new_column|\n+--------------+----------+---------------------+-------------------+-------------+-------------+-------------------+-----------+-----------------+--------------+----------+\n|             1|       151|             Clothing|             Mobile|        11.14|           11|2023-02-12 00:00:00|       1017|          Florida|        PayPal|        22|\n|             2|       192|          Electronics|            Fiction|       237.04|           10|2023-01-21 00:00:00|       1016|         New York|    Debit Card|        20|\n|             3|       114|                Books|            Fiction|       154.13|           19|2023-11-02 00:00:00|       1037|         New York|    Debit Card|        38|\n|             4|       171|            Groceries|         Board Game|       301.19|           14|2023-07-23 00:00:00|       1013|         New York|   Credit Card|        28|\n|             5|       160|             Clothing|         Board Game|       152.13|           10|2022-03-19 00:00:00|       1086|          Florida|          Cash|        20|\n|             6|       120|          Electronics|             Laptop|       153.46|           15|2022-07-13 00:00:00|       1088|       California|    Debit Card|        30|\n|             7|       182|                 Toys|             Laptop|       372.88|           19|2022-10-12 00:00:00|       1078|         Illinois|    Debit Card|        38|\n|             8|       186|                Books|             Mobile|        28.83|            4|2023-06-11 00:00:00|       1055|          Florida|    Debit Card|         8|\n|             9|       174|             Clothing|         Board Game|       451.93|            2|2023-06-08 00:00:00|       1021|       California|          Cash|         4|\n|            10|       174|             Clothing|        Non-fiction|       426.87|            9|2023-09-05 00:00:00|       1066|       California|          Cash|        18|\n|            11|       187|            Groceries|        Non-fiction|       335.56|           10|2022-06-05 00:00:00|       1055|          Florida|   Credit Card|        20|\n|            12|       199|            Groceries|             Mobile|       298.64|           11|2022-12-06 00:00:00|       1018|          Florida|        PayPal|        22|\n|            13|       123|                 Toys|        Non-fiction|       446.69|           14|2022-05-05 00:00:00|       1056|       California|          Cash|        28|\n|            14|       102|                 Toys|      Action Figure|        96.74|            7|2022-10-07 00:00:00|       1043|       California|        PayPal|        14|\n|            15|       121|          Electronics|              Pants|        44.09|           15|2023-09-14 00:00:00|       1097|       California|        PayPal|        30|\n|            16|       152|          Electronics|             Mobile|       123.56|           19|2023-10-20 00:00:00|       1034|          Florida|          Cash|        38|\n|            17|       101|                 Toys|             Mobile|       398.32|           15|2023-12-29 00:00:00|       1000|       California|    Debit Card|        30|\n|            18|       187|                 Toys|              Shirt|        22.16|            8|2023-11-05 00:00:00|       1051|         New York|   Credit Card|        16|\n|            19|       129|                Books|              Fruit|       293.49|           11|2022-05-08 00:00:00|       1084|          Florida|        PayPal|        22|\n|            20|       137|            Groceries|              Fruit|       497.74|            9|2022-11-10 00:00:00|       1092|         New York|    Debit Card|        18|\n+--------------+----------+---------------------+-------------------+-------------+-------------+-------------------+-----------+-----------------+--------------+----------+\nonly showing top 20 rows\n\n"
     ]
    }
   ],
   "source": [
    "from pyspark.sql.functions import col, when\n",
    "\n",
    "df_cleaned = df.dropna()\n",
    "df_cleaned = df.filter(col('Product ID') > 100)\n",
    "df_cleaned.show()\n",
    "df_renamed = df_cleaned.withColumnRenamed(\"Product Category\", \"Product Category name\")\n",
    "df_renamed.show()\n",
    "df_transformed = df_renamed.withColumn('new_column', col('Quantity Sold') * 2)\n",
    "df_transformed.show()\n"
   ]
  },
  {
   "cell_type": "code",
   "execution_count": 0,
   "metadata": {
    "application/vnd.databricks.v1+cell": {
     "cellMetadata": {
      "byteLimit": 2048000,
      "rowLimit": 10000
     },
     "inputWidgets": {},
     "nuid": "5e8923a9-8475-4724-8baa-02cfa02bcd93",
     "showTitle": false,
     "title": ""
    }
   },
   "outputs": [
    {
     "output_type": "stream",
     "name": "stdout",
     "output_type": "stream",
     "text": [
      "+----------+------------------+\n|Product ID|       total_sales|\n+----------+------------------+\n|       148|           2134.65|\n|       137|3266.0299999999997|\n|       133|            2127.6|\n|       108|           2003.65|\n|       155|           2032.56|\n|       193|2037.5700000000002|\n|       101|3451.3199999999993|\n|       126|2290.9700000000003|\n|       115|            3026.0|\n|       183|2401.4300000000003|\n|       192|           3014.21|\n|       159|           2493.29|\n|       103|3142.6800000000003|\n|       128|           1566.72|\n|       122|3746.3599999999997|\n|       157|           3766.04|\n|       190|           1152.82|\n|       111|           2909.67|\n|       177|           1299.81|\n|       140| 651.3100000000001|\n+----------+------------------+\nonly showing top 20 rows\n\n"
     ]
    }
   ],
   "source": [
    "from pyspark.sql.functions import sum, count, avg\n",
    "\n",
    "\n",
    "total_sales_per_category = df_transformed.groupBy(\"Product ID\").agg(\n",
    "    sum(\"Product Price\").alias(\"total_sales\")\n",
    ")\n",
    "\n",
    "total_sales_per_category.show()\n",
    "\n",
    "\n"
   ]
  },
  {
   "cell_type": "code",
   "execution_count": 0,
   "metadata": {
    "application/vnd.databricks.v1+cell": {
     "cellMetadata": {
      "byteLimit": 2048000,
      "rowLimit": 10000
     },
     "inputWidgets": {},
     "nuid": "68a3647d-6bc6-4dca-89da-7eb6e24a6676",
     "showTitle": false,
     "title": ""
    }
   },
   "outputs": [
    {
     "output_type": "stream",
     "name": "stdout",
     "output_type": "stream",
     "text": [
      "+--------------+----------+---------------------+-------------------+-------------+-------------+-------------------+-----------+-----------------+--------------+----------+\n|Transaction ID|Product ID|Product Category name|Product Subcategory|Product Price|Quantity Sold|   Transaction Date|Customer ID|Customer Location|Payment Method|new_column|\n+--------------+----------+---------------------+-------------------+-------------+-------------+-------------------+-----------+-----------------+--------------+----------+\n|             1|       151|             Clothing|             Mobile|        11.14|           11|2023-02-12 00:00:00|       1017|          Florida|        PayPal|        22|\n|             2|       192|          Electronics|            Fiction|       237.04|           10|2023-01-21 00:00:00|       1016|         New York|    Debit Card|        20|\n|             3|       114|                Books|            Fiction|       154.13|           19|2023-11-02 00:00:00|       1037|         New York|    Debit Card|        38|\n|             4|       171|            Groceries|         Board Game|       301.19|           14|2023-07-23 00:00:00|       1013|         New York|   Credit Card|        28|\n|             5|       160|             Clothing|         Board Game|       152.13|           10|2022-03-19 00:00:00|       1086|          Florida|          Cash|        20|\n|             6|       120|          Electronics|             Laptop|       153.46|           15|2022-07-13 00:00:00|       1088|       California|    Debit Card|        30|\n|             7|       182|                 Toys|             Laptop|       372.88|           19|2022-10-12 00:00:00|       1078|         Illinois|    Debit Card|        38|\n|             8|       186|                Books|             Mobile|        28.83|            4|2023-06-11 00:00:00|       1055|          Florida|    Debit Card|         8|\n|             9|       174|             Clothing|         Board Game|       451.93|            2|2023-06-08 00:00:00|       1021|       California|          Cash|         4|\n|            10|       174|             Clothing|        Non-fiction|       426.87|            9|2023-09-05 00:00:00|       1066|       California|          Cash|        18|\n|            11|       187|            Groceries|        Non-fiction|       335.56|           10|2022-06-05 00:00:00|       1055|          Florida|   Credit Card|        20|\n|            12|       199|            Groceries|             Mobile|       298.64|           11|2022-12-06 00:00:00|       1018|          Florida|        PayPal|        22|\n|            13|       123|                 Toys|        Non-fiction|       446.69|           14|2022-05-05 00:00:00|       1056|       California|          Cash|        28|\n|            14|       102|                 Toys|      Action Figure|        96.74|            7|2022-10-07 00:00:00|       1043|       California|        PayPal|        14|\n|            15|       121|          Electronics|              Pants|        44.09|           15|2023-09-14 00:00:00|       1097|       California|        PayPal|        30|\n|            16|       152|          Electronics|             Mobile|       123.56|           19|2023-10-20 00:00:00|       1034|          Florida|          Cash|        38|\n|            17|       101|                 Toys|             Mobile|       398.32|           15|2023-12-29 00:00:00|       1000|       California|    Debit Card|        30|\n|            18|       187|                 Toys|              Shirt|        22.16|            8|2023-11-05 00:00:00|       1051|         New York|   Credit Card|        16|\n|            19|       129|                Books|              Fruit|       293.49|           11|2022-05-08 00:00:00|       1084|          Florida|        PayPal|        22|\n|            20|       137|            Groceries|              Fruit|       497.74|            9|2022-11-10 00:00:00|       1092|         New York|    Debit Card|        18|\n+--------------+----------+---------------------+-------------------+-------------+-------------+-------------------+-----------+-----------------+--------------+----------+\nonly showing top 20 rows\n\n"
     ]
    }
   ],
   "source": [
    "df_transformed.write.csv(\"/FileStore/sample_ecommerce_data_transformed\", mode=\"overwrite\")\n",
    "df_transformed.show()"
   ]
  },
  {
   "cell_type": "code",
   "execution_count": 0,
   "metadata": {
    "application/vnd.databricks.v1+cell": {
     "cellMetadata": {
      "byteLimit": 2048000,
      "rowLimit": 10000
     },
     "inputWidgets": {},
     "nuid": "6bf6f20f-65f0-4c97-be4d-af3e16975472",
     "showTitle": false,
     "title": ""
    }
   },
   "outputs": [
    {
     "output_type": "stream",
     "name": "stdout",
     "output_type": "stream",
     "text": [
      "+----------+------------------+\n|Product ID|       total_sales|\n+----------+------------------+\n|       148|           2134.65|\n|       137|3266.0299999999997|\n|       133|            2127.6|\n|       108|           2003.65|\n|       155|           2032.56|\n|       193|2037.5700000000002|\n|       101|3451.3199999999993|\n|       126|2290.9700000000003|\n|       115|            3026.0|\n|       183|2401.4300000000003|\n|       192|           3014.21|\n|       159|           2493.29|\n|       103|3142.6800000000003|\n|       128|           1566.72|\n|       122|3746.3599999999997|\n|       157|           3766.04|\n|       190|           1152.82|\n|       111|           2909.67|\n|       177|           1299.81|\n|       140| 651.3100000000001|\n+----------+------------------+\nonly showing top 20 rows\n\n"
     ]
    }
   ],
   "source": [
    "total_sales_per_category.write.parquet(\"/FileStore/sample_ecommerce_data\", mode=\"overwrite\")\n",
    "total_sales_per_category.show()"
   ]
  }
 ],
 "metadata": {
  "application/vnd.databricks.v1+notebook": {
   "dashboards": [],
   "environmentMetadata": null,
   "language": "python",
   "notebookMetadata": {
    "pythonIndentUnit": 4
   },
   "notebookName": "PYSPARK TRAINING",
   "widgets": {}
  }
 },
 "nbformat": 4,
 "nbformat_minor": 0
}
